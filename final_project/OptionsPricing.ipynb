{
 "cells": [
  {
   "cell_type": "code",
   "execution_count": null,
   "id": "ac97f75b-fa25-4af5-abf6-3333870db7ae",
   "metadata": {},
   "outputs": [],
   "source": []
  },
  {
   "cell_type": "code",
   "execution_count": null,
   "id": "2bf389c7-f8a8-424e-8845-278a62ed1277",
   "metadata": {},
   "outputs": [],
   "source": [
    "## ATM: At-The-Money, when S = K (the stock price is equal to the strike price)\n",
    "## The following uses BSM and Put-Call Parity to calculate the options prices"
   ]
  },
  {
   "cell_type": "code",
   "execution_count": 19,
   "id": "cb9ad203-2a66-475c-ae62-195c05315805",
   "metadata": {},
   "outputs": [],
   "source": [
    "import numpy as np\n",
    "import math\n",
    "from scipy.stats import norm\n",
    "import matplotlib.pyplot as plt"
   ]
  },
  {
   "cell_type": "code",
   "execution_count": 7,
   "id": "e57990e4-6b6c-4ce4-b066-468b5f943f2f",
   "metadata": {},
   "outputs": [],
   "source": [
    "## 2.2.1 Model-free upper and lower bounds for the price of a European ATM call option\n",
    "## 2.2.2 Model-free upper and lower bounds for the price of a European ATM call option\n",
    "\n",
    "# Lower bound for a call option: max(S-K,0) - max(-S+K,0)exp(-rT)\n",
    "# Upper bound for a call option: max(S-K,0) + max(S-K,0)exp(-rT)\n",
    "\n",
    "def model_free_euro_call(r, T, S, K):\n",
    "    \n",
    "    # Calculate model-free bounds\n",
    "    lower_bound = S * (max(S-K,0) - max(-S+K,0) * math.exp(-r*T))\n",
    "    upper_bound = S * (max(S-K,0) + max(S-K,0) * math.exp(-r*T))\n",
    "\n",
    "    return lower_bound, upper_bound\n",
    "\n",
    "# Lower bound for a put option: max(K-S,0) - max(-K+S,0)exp(-rT)\n",
    "# Upper bound for a put option: max(K-S,0) + max(K-S,0)exp(-rT)\n",
    "\n",
    "def model_free_euro_put(r, T, S, K):\n",
    "    \n",
    "    # Calculate model-free bounds\n",
    "    lower_bound = S * (max(K-S,0) - max(-K+S,0) * math.exp(-r*T))\n",
    "    upper_bound = S * (max(K-S,0) + max(K-S,0) * math.exp(-r*T))\n",
    "    \n",
    "    return lower_bound, upper_bound"
   ]
  },
  {
   "cell_type": "code",
   "execution_count": 10,
   "id": "8065710c-0d80-4003-afcb-b58c2b0cfe0c",
   "metadata": {},
   "outputs": [
    {
     "name": "stdout",
     "output_type": "stream",
     "text": [
      "lower -98.01493354116764\n",
      "upper 0.0\n"
     ]
    }
   ],
   "source": [
    "lb, ub = model_free_euro_call(0.01,1,99,100)\n",
    "print(\"lower\",lb)\n",
    "print(\"upper\",ub)"
   ]
  },
  {
   "cell_type": "code",
   "execution_count": 14,
   "id": "acbe9760-f588-4d9c-b990-943d82f0bee6",
   "metadata": {},
   "outputs": [
    {
     "name": "stdout",
     "output_type": "stream",
     "text": [
      "Upper bound of put price: 0.4000000000000057\n",
      "Lower bound of put price: 100.0\n"
     ]
    }
   ],
   "source": [
    "## 2.2.3 Model-free upper and lower bounds for the price of an American ATM put option \n",
    "# Option parameters\n",
    "S = 100   # Stock price\n",
    "r = 0.05  # Risk-free interest rate\n",
    "T = 1     # Time to expiration\n",
    "sigma = 0.2   # Volatility\n",
    "K = 100   # Strike price\n",
    "\n",
    "# Set up the grid\n",
    "n = 500   # Number of time steps\n",
    "m = 500   # Number of stock price steps\n",
    "dt = T/n  # Time step\n",
    "ds = 2*S/m   # Stock price step\n",
    "grid = np.zeros((n+1,m+1))\n",
    "\n",
    "# Initialize the grid at expiration\n",
    "for j in range(m+1):\n",
    "    grid[n][j] = max(K-j*ds,0)\n",
    "\n",
    "# Calculate the grid at earlier times\n",
    "for i in range(n-1,-1,-1):\n",
    "    for j in range(1,m):\n",
    "        d1 = (np.log(S-j*ds/K) + (r + 0.5*sigma**2)*(T-i*dt)) / (sigma*np.sqrt((T-i*dt)))\n",
    "        d2 = d1 - sigma*np.sqrt((T-i*dt))\n",
    "        call_price = S*norm.cdf(d1) - K*np.exp(-r*(T-i*dt))*norm.cdf(d2)\n",
    "        put_price = call_price - S + K*np.exp(-r*(T-i*dt))\n",
    "        early_exercise_value = K - j*ds\n",
    "        grid[i][j] = max(put_price, early_exercise_value)\n",
    "    grid[i][0] = K\n",
    "    grid[i][m] = 0\n",
    "\n",
    "# Calculate the model-free upper and lower bounds\n",
    "put_upper = S - grid[0][1]\n",
    "put_lower = max(K-S, S-grid[0][m])\n",
    "\n",
    "# Print the results\n",
    "print(\"Upper bound of put price:\", put_upper)\n",
    "print(\"Lower bound of put price:\", put_lower)\n"
   ]
  },
  {
   "cell_type": "code",
   "execution_count": null,
   "id": "aabfd5a7-850d-4f69-80f5-cca45a3d5f69",
   "metadata": {},
   "outputs": [],
   "source": [
    "## the above was extremely confusing, idk how to do it :( "
   ]
  },
  {
   "cell_type": "code",
   "execution_count": 20,
   "id": "a700d849-b87a-488e-b2bc-9ca30eb4c18e",
   "metadata": {},
   "outputs": [
    {
     "data": {
      "image/png": "[encoded data removed]",
      "text/plain": [
       "<Figure size 432x288 with 1 Axes>"
      ]
     },
     "metadata": {
      "needs_background": "light"
     },
     "output_type": "display_data"
    },
    {
     "name": "stdout",
     "output_type": "stream",
     "text": [
      "[[0.0], [0.0, 0.0], [47.84651603231782, 0.0, 0.0]]\n",
      "[[0.0], [0.0, 0.0], [47.84651603231782, 0, 0.0]]\n",
      "[[0.0], [0.0, 0.0], [47.84651603231782, 0, 0]]\n",
      "European Call Price: 11.67\n"
     ]
    }
   ],
   "source": [
    "## 2.2.4 Compute the price of an ATM call option using a binomial model \n",
    "\n",
    "class EuropeanOption:\n",
    "    def __init__(self, K, S0, T, r, sigma, N):\n",
    "        self.dt = T/N\n",
    "        self.K = K\n",
    "        self.S0 = S0\n",
    "        self.T = T\n",
    "        self.r = r\n",
    "        self.sigma = sigma\n",
    "        self.N = N\n",
    "        self.R = np.exp(r * self.dt)\n",
    "\n",
    "    def __int_prms__(self):\n",
    "        self.u = math.exp(self.sigma*math.sqrt(self.dt))\n",
    "        self.d = 1/self.u\n",
    "        self.p = (self.R - self.d)/(self.u - self.d)\n",
    "        ## (math.exp((self.r-self.q)*self.dt)-self.d)/(self.u-self.d)\n",
    "        ## ((R + 1) - self.d)/(self.u - self.d)\n",
    "        \n",
    "#     def stocktree(self):\n",
    "#         stocktree = [[0.0 for j in range(i+1)] for i in range(self.N+1)]\n",
    "#         for i in range(self.N+1):\n",
    "#             for j in range(i+1):\n",
    "#                 stocktree[i][j] = self.S0*(self.u**(i-j))*(self.d**j)\n",
    "#         return stocktree\n",
    "    \n",
    "    def stocktree(self):\n",
    "        stocktree = [[0.0 for j in range(i+1)] for i in range(self.N+1)]\n",
    "        fig, ax = plt.subplots()\n",
    "        for i in range(self.N+1):\n",
    "            for j in range(i+1):\n",
    "                stocktree[i][j] = self.S0*(self.u**(i-j))*(self.d**j)\n",
    "                ax.plot([i], [stocktree[i][j]], 'o', markersize=10, color='blue')\n",
    "                plt.text(i+0.02, stocktree[i][j]+0.02, f\"{stocktree[i][j]:.2f}\", fontsize=8)\n",
    "        #if i < self.N:\n",
    "        #    ax.plot([i, i+1], [stocktree[i][j], stocktree[i+1][j]], color='gray', linestyle='-', linewidth=2)\n",
    "        #    ax.plot([i, i+1], [stocktree[i][j], stocktree[i+1][j+1]], color='gray', linestyle='-', linewidth=2)\n",
    "        ax.set_xlabel('Time')\n",
    "        ax.set_ylabel('Stock Price')\n",
    "        ax.set_title('Stock Option Tree')\n",
    "        plt.show()\n",
    "        return stocktree\n",
    "\n",
    "    def option_price(self, stocktree):\n",
    "        option = [[0.0 for j in range(i+1)] for i in range(self.N+1)]\n",
    "        if self.is_call:\n",
    "            for j in range(self.N+1):\n",
    "                option[self.N][j] = max(0, stocktree[self.N][j]-self.K)\n",
    "                print(option)\n",
    "        else:\n",
    "            for j in range(self.N+1):\n",
    "                option[self.N][j] = max(0, self.K-stocktree[self.N][j])\n",
    "                print(option)\n",
    "        return option\n",
    "\n",
    "    # def returntree(self, option, stocktree):\n",
    "    #     for i in range(self.N-1, -1, -1):\n",
    "    #         for j in range(i+1):\n",
    "    #             if self.is_call:\n",
    "    #                 option[i][j] = max(stocktree[i][j]-self.K, 0)\n",
    "    #             else:\n",
    "    #                 option[i][j] = max(self.K-stocktree[i][j], 0)\n",
    "    #     return option\n",
    "\n",
    "    def optpricetree(self, option, stocktree):\n",
    "        for i in range(self.N-1, -1, -1):\n",
    "            for j in range(i+1):\n",
    "                if self.is_call:\n",
    "                    option[i][j] = (self.p*option[i+1][j]+(1-self.p)*option[i+1][j+1])/self.R\n",
    "                else:\n",
    "                    option[i][j] = (self.p*option[i+1][j]+(1-self.p)*option[i+1][j+1])/self.R\n",
    "        return option\n",
    "\n",
    "    def price(self, is_call):\n",
    "        self.is_call = is_call\n",
    "        self.__int_prms__()\n",
    "        stocktree = self.stocktree()\n",
    "        option = self.option_price(stocktree)\n",
    "        return self.optpricetree(option, stocktree)[0][0]\n",
    "\n",
    "    \n",
    "# Example Call - $11.67, Put - $11.55\n",
    "european_call = EuropeanOption(K=105, S0=100, T=1, r=0.05, sigma=0.3, N=2)\n",
    "call_price = european_call.price(is_call=True)\n",
    "print(f\"European Call Price: {call_price:.2f}\")"
   ]
  },
  {
   "cell_type": "code",
   "execution_count": 22,
   "id": "6f706456-c076-4ce7-b2ae-925c954a18af",
   "metadata": {},
   "outputs": [
    {
     "name": "stdout",
     "output_type": "stream",
     "text": [
      "Black-Scholes call price: 10.450583572185565\n",
      "Black-Scholes put price: 5.573526022256971\n"
     ]
    }
   ],
   "source": [
    "# 2.2.5 Illustrate that the price computed by the binomial model converges to the Black-Scholes price\n",
    "\n",
    "# Option parameters\n",
    "S = 100   # Stock price\n",
    "r = 0.05  # Risk-free interest rate\n",
    "T = 1     # Time to expiration\n",
    "sigma = 0.2   # Volatility\n",
    "K = 100   # Strike price\n",
    "\n",
    "# Calculate the Black-Scholes price\n",
    "d1 = (math.log(S/K) + (r + 0.5*sigma**2)*T) / (sigma*math.sqrt(T))\n",
    "d2 = d1 - sigma*math.sqrt(T)\n",
    "call_price = S*norm.cdf(d1) - K*math.exp(-r*T)*norm.cdf(d2)\n",
    "put_price = K*math.exp(-r*T)*norm.cdf(-d2) - S*norm.cdf(-d1)\n",
    "\n",
    "print(\"Black-Scholes call price:\", call_price)\n",
    "print(\"Black-Scholes put price:\", put_price)"
   ]
  },
  {
   "cell_type": "code",
   "execution_count": 16,
   "id": "0b5a6266-73d0-438b-ba8f-4f37b9622670",
   "metadata": {},
   "outputs": [
    {
     "name": "stdout",
     "output_type": "stream",
     "text": [
      "Put price: 2.2381579475341724e-31\n"
     ]
    }
   ],
   "source": [
    "# 2.2.6 In the binomial model, compute the price of an ATM European put option \n",
    "\n",
    "# Option parameters\n",
    "S0 = 100   # Stock price\n",
    "K = 100    # Strike price\n",
    "r = 0.05   # Risk-free interest rate\n",
    "T = 1      # Time to expiration\n",
    "sigma = 0.2   # Volatility\n",
    "n = 100    # Number of time steps\n",
    "u = math.exp(sigma * math.sqrt(T/n))\n",
    "d = 1/u\n",
    "p = (math.exp(r*T/n) - d) / (u - d)\n",
    "\n",
    "# Calculate the put price\n",
    "put_price = 0\n",
    "for i in range(n+1):\n",
    "    put_price += math.comb(n, i) * (1-p)**i * p**(n-i) * max(0, K - K*(u**i)*(d**(n-i)))\n",
    "put_price *= (p/(1+r))**n\n",
    "\n",
    "# Print the result\n",
    "print(\"Put price:\", put_price)"
   ]
  },
  {
   "cell_type": "code",
   "execution_count": 18,
   "id": "c1c54426-6ad5-4115-b076-aa26436cd178",
   "metadata": {},
   "outputs": [
    {
     "name": "stdout",
     "output_type": "stream",
     "text": [
      "Price of ATM American put option: 6.082354409142486\n"
     ]
    }
   ],
   "source": [
    "#2.2.7 In the binomial model, compute the price of an ATM American put option\n",
    "\n",
    "# Option parameters\n",
    "S = 100   # Stock price\n",
    "r = 0.05  # Risk-free interest rate\n",
    "T = 1     # Time to expiration\n",
    "sigma = 0.2   # Volatility\n",
    "K = 100   # Strike price\n",
    "\n",
    "# Binomial tree parameters\n",
    "N = 100   # Number of time steps\n",
    "u = math.exp(sigma * math.sqrt(T/N))\n",
    "d = 1/u\n",
    "p = (math.exp(r*T/N) - d) / (u - d)\n",
    "\n",
    "# Set up the grid\n",
    "grid = [[0 for j in range(i+1)] for i in range(N+1)]\n",
    "\n",
    "# Initialize the grid at expiration\n",
    "for j in range(N+1):\n",
    "    grid[N][j] = max(K - S * (u**(2*j-N)), 0)\n",
    "\n",
    "# Calculate the grid at earlier times\n",
    "for i in range(N-1, -1, -1):\n",
    "    for j in range(i+1):\n",
    "        early_exercise_value = K - S * (u**(2*j-i))\n",
    "        continuation_value = math.exp(-r*T/N) * (p * grid[i+1][j+1] + (1-p) * grid[i+1][j])\n",
    "        grid[i][j] = max(early_exercise_value, continuation_value)\n",
    "\n",
    "# Calculate the option price\n",
    "option_price = grid[0][0]\n",
    "\n",
    "# Print the result\n",
    "print(\"Price of ATM American put option:\", option_price)"
   ]
  },
  {
   "cell_type": "code",
   "execution_count": null,
   "id": "14b2a10d-8c1a-4243-a9a1-329bd0e6e037",
   "metadata": {},
   "outputs": [],
   "source": []
  }
 ],
 "metadata": {
  "kernelspec": {
   "display_name": "Python 3 (ipykernel)",
   "language": "python",
   "name": "python3"
  },
  "language_info": {
   "codemirror_mode": {
    "name": "ipython",
    "version": 3
   },
   "file_extension": ".py",
   "mimetype": "text/x-python",
   "name": "python",
   "nbconvert_exporter": "python",
   "pygments_lexer": "ipython3",
   "version": "3.9.12"
  }
 },
 "nbformat": 4,
 "nbformat_minor": 5
}
