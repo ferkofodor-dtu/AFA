{
 "cells": [
  {
   "cell_type": "code",
   "execution_count": 1,
   "id": "503d713f",
   "metadata": {},
   "outputs": [],
   "source": [
    "import numpy as np\n",
    "import pandas as pd\n",
    "import statistics\n",
    "import statsmodels.api as sm\n",
    "import scipy.optimize as opt\n",
    "import matplotlib.pyplot as plt"
   ]
  },
  {
   "cell_type": "code",
   "execution_count": 5,
   "id": "7bf47ac8",
   "metadata": {},
   "outputs": [
    {
     "ename": "SyntaxError",
     "evalue": "invalid syntax (<ipython-input-5-d0c341c9c751>, line 1)",
     "output_type": "error",
     "traceback": [
      "\u001b[0;36m  File \u001b[0;32m\"<ipython-input-5-d0c341c9c751>\"\u001b[0;36m, line \u001b[0;32m1\u001b[0m\n\u001b[0;31m    p3.9 -m pip install openpyxl\u001b[0m\n\u001b[0m      ^\u001b[0m\n\u001b[0;31mSyntaxError\u001b[0m\u001b[0;31m:\u001b[0m invalid syntax\n"
     ]
    }
   ],
   "source": [
    "p3.9 -m pip install openpyxl"
   ]
  },
  {
   "cell_type": "code",
   "execution_count": 6,
   "id": "aa290983",
   "metadata": {},
   "outputs": [],
   "source": [
    "data=pd.read_excel('RatesComma.xlsx')"
   ]
  },
  {
   "cell_type": "code",
   "execution_count": 7,
   "id": "31a10b93",
   "metadata": {},
   "outputs": [],
   "source": [
    "g_data = data['Group 12']\n",
    "history = []\n",
    "for i in g_data:\n",
    "    history.append(i)"
   ]
  },
  {
   "cell_type": "code",
   "execution_count": 8,
   "id": "f9077150",
   "metadata": {},
   "outputs": [
    {
     "name": "stdout",
     "output_type": "stream",
     "text": [
      "0.9974432841855414\n"
     ]
    }
   ],
   "source": [
    "def calculate_mse(alpha, history):\n",
    "    n = len(history)\n",
    "    r = np.mean(history)\n",
    "    sum_diff = np.sum((history[1:] - r) * (history[:-1] - r))\n",
    "    sum_var = np.sum((history[:-1] - r) ** 2)\n",
    "    mse = (sum_diff / sum_var) - alpha\n",
    "    return mse\n",
    "initial_alpha = 0.2\n",
    "result = opt.root(calculate_mse, initial_alpha, history)\n",
    "estimated_alpha = result.x[0]\n",
    "print(estimated_alpha)      #Speed of mean reversion calculation"
   ]
  },
  {
   "cell_type": "code",
   "execution_count": 9,
   "id": "5512ef7e",
   "metadata": {},
   "outputs": [],
   "source": [
    "def simulate_vasicek(T, N, history, estimated_alpha):\n",
    "    r0 = history[-1]\n",
    "    alpha = estimated_alpha\n",
    "    mu = np.mean(np.array(history))     #Estimated mean of data\n",
    "    sigma = np.std(np.array(history))    #Estimated volatility of data\n",
    "    dt = T / N\n",
    "    Z = np.random.standard_normal(N)\n",
    "    r = np.zeros(N)\n",
    "    r[0] = r0\n",
    "\n",
    "    for i in range(1, N):\n",
    "        drift = alpha * (mu - r[i-1]) * dt\n",
    "        diffusion = sigma * np.sqrt(dt) * Z[i]\n",
    "        r[i] = r[i-1] + drift + diffusion\n",
    "\n",
    "    return r\n"
   ]
  },
  {
   "cell_type": "code",
   "execution_count": 10,
   "id": "798a43c9",
   "metadata": {},
   "outputs": [],
   "source": [
    "def find_future_value(simulated_rates, notional, fixed_rate, floating_spread, time_in_days):\n",
    "    present_values = []\n",
    "    for i in range(time_in_days):\n",
    "        present_values.append(0)\n",
    "    for i in range(time_in_days):\n",
    "        fixed_cashflows = fixed_rate * notional\n",
    "        floating_cashflows = (simulated_rates[i] + floating_spread) * notional\n",
    "        present_values[i] = fixed_cashflows - floating_cashflows\n",
    "    future_value = np.mean(present_values)\n",
    "    return future_value, present_values"
   ]
  },
  {
   "cell_type": "code",
   "execution_count": 11,
   "id": "1b287690",
   "metadata": {},
   "outputs": [],
   "source": [
    "def calculate_exposure_metrics(list_future_values):\n",
    "#     n = len(future_values)\n",
    "#     exposures = np.zeros(n)\n",
    "#     peak_exposures = np.zeros(n)\n",
    "#     max_peak_exposure = 0.0\n",
    "\n",
    "#     for i in range(n):\n",
    "#         if i == 0:\n",
    "#             exposures[i] = future_values[i]\n",
    "#             peak_exposures[i] = exposures[i]\n",
    "#         else:\n",
    "#             exposures[i] = exposures[i-1] + future_values[i]\n",
    "#             peak_exposures[i] = max(exposures[i], peak_exposures[i-1])\n",
    "\n",
    "#         max_peak_exposure = max(max_peak_exposure, peak_exposures[i])\n",
    "\n",
    "#     expected_exposure = np.mean(exposures)\n",
    "#     percentile_975 = np.percentile(peak_exposures, 97.5)\n",
    "\n",
    "#     return expected_exposure, percentile_975, max_peak_exposure\n",
    "    \n",
    "    no_traj = len(list_future_values)\n",
    "    traj_len = len(list_future_values[0])\n",
    "    \n",
    "    peak_exposure = np.zeros(traj_len)\n",
    "    exp_exposure = np.zeros(traj_len)\n",
    "    for i in range(traj_len):\n",
    "        temp_store = []\n",
    "        for j in range(no_traj):\n",
    "            temp_store.append(max(list_future_values[j][i],0))\n",
    "        exp_exposure[i] = 1.0*sum(temp_store)/no_traj\n",
    "        peak_exposure[i] = float(np.percentile(np.array(temp_store),97.5))\n",
    "    return exp_exposure,peak_exposure,max(peak_exposure)"
   ]
  },
  {
   "cell_type": "code",
   "execution_count": null,
   "id": "94635a4d",
   "metadata": {},
   "outputs": [],
   "source": []
  },
  {
   "cell_type": "code",
   "execution_count": 226,
   "id": "68055975",
   "metadata": {},
   "outputs": [
    {
     "name": "stdout",
     "output_type": "stream",
     "text": [
      "Swap value at the end of 10 years: -26914.28440075942\n",
      "Swap value at the end of 7 years: -130347.49355433756\n",
      "Swap value at the end of 4 years: 44278.5355987797\n",
      "268.42992571592004\n"
     ]
    }
   ],
   "source": [
    "#For 10 year interest swap with a notional value of 2 million, swap rate of 2%.\n",
    "trajectories = 4\n",
    "values_10 = []\n",
    "future_values_10 = []\n",
    "for i in range(trajectories):\n",
    "    simulated_rates = simulate_vasicek(10, 2520, history, estimated_alpha)\n",
    "    future_value, values = find_future_value(simulated_rates, 2000000, 0.02, 0.0003,2520)\n",
    "    future_values_10.append(values)\n",
    "    values_10.append(future_value)\n",
    "print(\"Swap value at the end of 10 years: \" + str(np.mean(values_10)))\n",
    "expected_exposure_10, peak_exposure_10, max_peak_exposure_10 = calculate_exposure_metrics(future_values_10)\n",
    "\n",
    "\n",
    "#For 7 year swap with a notional value of 8 milliion, swap rate equal to initial floating rate\n",
    "trajectories = 4\n",
    "values_7 = []\n",
    "future_values_7 = []\n",
    "for i in range(trajectories):\n",
    "    simulated_rates = simulate_vasicek(7, 7*252, history, estimated_alpha)\n",
    "    future_value, values = find_future_value(simulated_rates, 8000000, 0.02, 0.0003,7*252)\n",
    "    future_values_7.append(values)\n",
    "    values_7.append(future_value)\n",
    "print(\"Swap value at the end of 7 years: \" + str(np.mean(values_7)))\n",
    "expected_exposure_7, peak_exposure_7, max_peak_exposure_7 = calculate_exposure_metrics(future_values_7)\n",
    "\n",
    "#For 4 year swap, with a notional value of 6 million, where receiving 3%\n",
    "trajectories = 4\n",
    "values_4 = []\n",
    "future_values_4 = []\n",
    "for i in range(trajectories):\n",
    "    simulated_rates = simulate_vasicek(4, 4*252, history, estimated_alpha)\n",
    "    future_value, values = find_future_value(simulated_rates, 2000000, 0.02, 0.0003,4*252)\n",
    "    future_values_4.append(values)\n",
    "    values_4.append(future_value)\n",
    "print(\"Swap value at the end of 4 years: \" + str(-(np.mean(values_4))))\n",
    "expected_exposure_4,peak_exposure_4, max_peak_exposure_4 = calculate_exposure_metrics(future_values_4)\n",
    "print(expected_exposure_4[1000])"
   ]
  },
  {
   "cell_type": "code",
   "execution_count": 53,
   "id": "ceaffe84",
   "metadata": {},
   "outputs": [],
   "source": [
    "# Pass cds_spread in terms of fraction not as basis points\n",
    "def calculate_cva_charge(time_period,R,fixed_r,cds_value,notional,history,alpha,trajectories=1000,float_spread=3e-4):\n",
    "    \n",
    "    future_values = []\n",
    "    for i in range(trajectories):\n",
    "        simulated_rates = simulate_vasicek(time_period,time_period*252, history, alpha)\n",
    "        _, values = find_future_value(simulated_rates, notional, fixed_r, float_spread,time_period*252,)\n",
    "        future_values.append(values)\n",
    "    exp_exposure,_,_ = calculate_exposure_metrics(future_values)\n",
    "\n",
    "    cva_value = 0\n",
    "    \n",
    "    ##Assuming risk free interest rate as 3.39% referred to US corporate bond rates\n",
    "    discount_rate = 1/(1+3.39e-2)\n",
    "    N = len(exp_exposure)\n",
    "    for i in range(N):\n",
    "        def_int = cds_value/(1-R)\n",
    "        def_prob = (np.exp(-def_int*(i-1)/N)-np.exp(-def_int*i/N))\n",
    "        cva_value += discount_rate*def_prob*exp_exposure[i]\n",
    "    \n",
    "    return cva_value*(1-R)"
   ]
  },
  {
   "cell_type": "code",
   "execution_count": 272,
   "id": "620e3f1d",
   "metadata": {},
   "outputs": [
    {
     "name": "stdout",
     "output_type": "stream",
     "text": [
      "38.9381933209943\n"
     ]
    }
   ],
   "source": [
    "cva_charge = calculate_cva_charge(10,0.32,0.02,423*1e-4,2e6,history,estimated_alpha)\n",
    "print(cva_charge)"
   ]
  },
  {
   "cell_type": "markdown",
   "id": "a8dbc8e0",
   "metadata": {},
   "source": [
    "## Now using data for different dates and tenor "
   ]
  },
  {
   "cell_type": "markdown",
   "id": "f7edb704",
   "metadata": {},
   "source": [
    "## For 10yr interest swap"
   ]
  },
  {
   "cell_type": "code",
   "execution_count": 274,
   "id": "e788150a",
   "metadata": {},
   "outputs": [],
   "source": [
    "cva_m10_10yr = calculate_cva_charge(10,0.32,0.02,423*1e-4,2e6,history,estimated_alpha)\n",
    "cva_m10_5yr = calculate_cva_charge(5,0.32,0.02,416*1e-4,2e6,history,estimated_alpha)\n",
    "cva_m10_4yr = calculate_cva_charge(4,0.32,0.02,403*1e-4,2e6,history,estimated_alpha)\n",
    "cva_m10_3yr = calculate_cva_charge(4,0.32,0.02,412*1e-4,2e6,history,estimated_alpha)\n",
    "cva_m10_2yr = calculate_cva_charge(2,0.32,0.02,404*1e-4,2e6,history,estimated_alpha)\n",
    "cva_m10_1yr = calculate_cva_charge(1,0.32,0.02,362*1e-4,2e6,history,estimated_alpha)\n",
    "\n",
    "cva_m14_10yr = calculate_cva_charge(10,0.32,0.02,522*1e-4,2e6,history,estimated_alpha)\n",
    "cva_m14_5yr = calculate_cva_charge(5,0.32,0.02,555*1e-4,2e6,history,estimated_alpha)\n",
    "cva_m14_4yr = calculate_cva_charge(4,0.32,0.02,599*1e-4,2e6,history,estimated_alpha)\n",
    "cva_m14_3yr = calculate_cva_charge(4,0.32,0.02,654*1e-4,2e6,history,estimated_alpha)\n",
    "cva_m14_2yr = calculate_cva_charge(2,0.32,0.02,713*1e-4,2e6,history,estimated_alpha)\n",
    "cva_m14_1yr = calculate_cva_charge(1,0.32,0.02,836*1e-4,2e6,history,estimated_alpha)\n"
   ]
  },
  {
   "cell_type": "markdown",
   "id": "443edc61",
   "metadata": {},
   "source": [
    "## For 7yr interest swap"
   ]
  },
  {
   "cell_type": "code",
   "execution_count": 273,
   "id": "d08a7673",
   "metadata": {},
   "outputs": [
    {
     "data": {
      "text/plain": [
       "0.00889840437294636"
      ]
     },
     "execution_count": 273,
     "metadata": {},
     "output_type": "execute_result"
    }
   ],
   "source": [
    "history[0]"
   ]
  },
  {
   "cell_type": "code",
   "execution_count": 277,
   "id": "a09c1059",
   "metadata": {},
   "outputs": [],
   "source": [
    "init_rate = history[0]\n",
    "cva_m10_5yr = calculate_cva_charge(5,0.32,init_rate,416*1e-4,8e6,history,estimated_alpha)\n",
    "cva_m10_4yr = calculate_cva_charge(4,0.32,init_rate,403*1e-4,8e6,history,estimated_alpha)\n",
    "cva_m10_3yr = calculate_cva_charge(4,0.32,init_rate,412*1e-4,8e6,history,estimated_alpha)\n",
    "cva_m10_2yr = calculate_cva_charge(2,0.32,init_rate,404*1e-4,8e6,history,estimated_alpha)\n",
    "cva_m10_1yr = calculate_cva_charge(1,0.32,init_rate,362*1e-4,8e6,history,estimated_alpha)\n",
    "\n",
    "cva_m14_5yr = calculate_cva_charge(5,0.32,init_rate,555*1e-4,8e6,history,estimated_alpha)\n",
    "cva_m14_4yr = calculate_cva_charge(4,0.32,init_rate,599*1e-4,8e6,history,estimated_alpha)\n",
    "cva_m14_3yr = calculate_cva_charge(4,0.32,init_rate,654*1e-4,8e6,history,estimated_alpha)\n",
    "cva_m14_2yr = calculate_cva_charge(2,0.32,init_rate,713*1e-4,8e6,history,estimated_alpha)\n",
    "cva_m14_1yr = calculate_cva_charge(1,0.32,init_rate,836*1e-4,8e6,history,estimated_alpha)"
   ]
  },
  {
   "cell_type": "markdown",
   "id": "23661943",
   "metadata": {},
   "source": [
    "## For 4yr interest rate"
   ]
  },
  {
   "cell_type": "code",
   "execution_count": 54,
   "id": "87cb3fa0",
   "metadata": {},
   "outputs": [],
   "source": [
    "cva_m10_4yr = calculate_cva_charge(4,0.32,0.03,403*1e-4,-6e6,history,estimated_alpha)\n",
    "cva_m10_3yr = calculate_cva_charge(3,0.32,0.03,412*1e-4,-6e6,history,estimated_alpha)\n",
    "cva_m10_2yr = calculate_cva_charge(2,0.32,0.03,404*1e-4,-6e6,history,estimated_alpha)\n",
    "cva_m10_1yr = calculate_cva_charge(1,0.32,0.03,362*1e-4,-6e6,history,estimated_alpha)\n",
    "\n",
    "cva_m14_4yr = calculate_cva_charge(4,0.32,0.03,599*1e-4,-6e6,history,estimated_alpha)\n",
    "cva_m14_3yr = calculate_cva_charge(3,0.32,0.03,654*1e-4,-6e6,history,estimated_alpha)\n",
    "cva_m14_2yr = calculate_cva_charge(2,0.32,0.03,713*1e-4,-6e6,history,estimated_alpha)\n",
    "cva_m14_1yr = calculate_cva_charge(1,0.32,0.03,836*1e-4,-6e6,history,estimated_alpha)"
   ]
  },
  {
   "cell_type": "code",
   "execution_count": 66,
   "id": "4b14ab10",
   "metadata": {},
   "outputs": [],
   "source": [
    "#Let us do the simulation for two years and we are interested in finding the exposure and cva for tenor value of 2yrs\n",
    "trajectories = 1000\n",
    "future_values_10 = []\n",
    "T = 2\n",
    "for i in range(trajectories):\n",
    "    simulated_rates = simulate_vasicek(T, 252*T, history, estimated_alpha)\n",
    "    _, values = find_future_value(simulated_rates, 2000000, 0.02, 0.0003,252*T)\n",
    "    future_values_10.append(values)\n",
    "#print(len(future_values_10[0]))\n",
    "future_values_7 = []\n",
    "T=2\n",
    "for i in range(trajectories):\n",
    "    simulated_rates = simulate_vasicek(T, 252*T, history, estimated_alpha)\n",
    "    _, values = find_future_value(simulated_rates, 8000000, history[0], 0.0003,252*T)\n",
    "    future_values_7.append(values)\n",
    "#print(len(future_values_7[0]))\n",
    "\n",
    "future_values_4 = []\n",
    "T=2\n",
    "for i in range(trajectories):\n",
    "    simulated_rates = simulate_vasicek(T, 252*T, history, estimated_alpha)\n",
    "    _, values = find_future_value(simulated_rates, -6000000,0.03, 0.0003,252*T)\n",
    "    future_values_4.append(values)\n",
    "#print(len(future_values_4[0]))\n",
    "\n",
    "future_values = [[0 for _ in range(T*252)] for _ in range(trajectories)]\n",
    "for i in range(trajectories):\n",
    "    for j in range(T*252):\n",
    "        #print(i,j)\n",
    "        future_values[i][j] = future_values_4[i][j]+future_values_10[i][j]+future_values_7[i][j]\n"
   ]
  },
  {
   "cell_type": "markdown",
   "id": "0a1ec402",
   "metadata": {},
   "source": [
    "## With no collateral and netting"
   ]
  },
  {
   "cell_type": "code",
   "execution_count": 32,
   "id": "b1f38170",
   "metadata": {},
   "outputs": [],
   "source": [
    "exp_exposure, peak_exposure, max_peak_exposure = calculate_exposure_metrics(future_values)\n",
    "discount_rate = 1/(1+3.39e-2)\n",
    "N = len(exp_exposure)\n",
    "cva_value = 0\n",
    "cds_value = 443e-4\n",
    "R = 0.32\n",
    "for i in range(N):\n",
    "    def_int = cds_value/(1-R)\n",
    "    def_prob = (np.exp(-def_int*(i-1)/N)-np.exp(-def_int*i/N))\n",
    "    cva_value += discount_rate*def_prob*exp_exposure[i]"
   ]
  },
  {
   "cell_type": "markdown",
   "id": "827c329e",
   "metadata": {},
   "source": [
    "## Without Netting and collateral"
   ]
  },
  {
   "cell_type": "code",
   "execution_count": 50,
   "id": "22c7e72c",
   "metadata": {},
   "outputs": [],
   "source": [
    "no_traj = len(future_values_10)\n",
    "traj_len = len(future_values_10[0])\n",
    "C = 1e5\n",
    "peak_exposure = np.zeros(traj_len)\n",
    "exp_exposure = np.zeros(traj_len)\n",
    "for i in range(traj_len):\n",
    "    temp_store = []\n",
    "    for j in range(no_traj):\n",
    "        t = max(future_values_10[j][i]-C,0)+max(future_values_4[j][i]-C,0)+max(future_values_7[j][i]-C,0)\n",
    "        temp_store.append(t)\n",
    "    exp_exposure[i] = 1.0*sum(temp_store)/no_traj\n",
    "    peak_exposure[i] = float(np.percentile(np.array(temp_store),97.5))\n",
    "discount_rate = 1/(1+3.39e-2)\n",
    "N = len(exp_exposure)\n",
    "cva_value = 0\n",
    "cds_value = 443e-4\n",
    "R = 0.32\n",
    "for i in range(N):\n",
    "    def_int = cds_value/(1-R)\n",
    "    def_prob = (np.exp(-def_int*(i-1)/N)-np.exp(-def_int*i/N))\n",
    "    cva_value += discount_rate*def_prob*exp_exposure[i]"
   ]
  },
  {
   "cell_type": "markdown",
   "id": "233855b0",
   "metadata": {},
   "source": [
    "## With Netting and total Collateral"
   ]
  },
  {
   "cell_type": "code",
   "execution_count": 61,
   "id": "ee4ef1e2",
   "metadata": {},
   "outputs": [],
   "source": [
    "exp_exposure, peak_exposure, max_peak_exposure = calculate_exposure_metrics([[value-1e5 for value in arr] for arr in future_values])\n",
    "discount_rate = 1/(1+3.39e-2)\n",
    "N = len(exp_exposure)\n",
    "cva_value = 0\n",
    "cds_value = 443e-4\n",
    "R = 0.32\n",
    "for i in range(N):\n",
    "    def_int = cds_value/(1-R)\n",
    "    def_prob = (np.exp(-def_int*(i-1)/N)-np.exp(-def_int*i/N))\n",
    "    cva_value += discount_rate*def_prob*exp_exposure[i]"
   ]
  }
 ],
 "metadata": {
  "kernelspec": {
   "display_name": "tf-gpu",
   "language": "python",
   "name": "tf-gpu"
  },
  "language_info": {
   "codemirror_mode": {
    "name": "ipython",
    "version": 3
   },
   "file_extension": ".py",
   "mimetype": "text/x-python",
   "name": "python",
   "nbconvert_exporter": "python",
   "pygments_lexer": "ipython3",
   "version": "3.9.5"
  }
 },
 "nbformat": 4,
 "nbformat_minor": 5
}
